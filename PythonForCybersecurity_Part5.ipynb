{
 "cells": [
  {
   "cell_type": "code",
   "execution_count": 1,
   "id": "6ef1efb4",
   "metadata": {},
   "outputs": [
    {
     "name": "stdout",
     "output_type": "stream",
     "text": [
      "📂 Secure File Reader\n",
      "Enter the filename to read (within 'safe_files/' folder): /../../../../../etc/passwd\n",
      "\n",
      "🔎 File Content:\n",
      " ❌ Error: ⚠️ Unauthorized access attempt blocked!\n"
     ]
    }
   ],
   "source": [
    "import os\n",
    "\n",
    "# Define the base directory where files are allowed\n",
    "BASE_DIR = os.path.abspath(\"safe_files\")\n",
    "\n",
    "# Ensure base directory exists\n",
    "os.makedirs(BASE_DIR, exist_ok=True)\n",
    "\n",
    "# Function to safely read a file if it's within the allowed directory\n",
    "def read_file_securely(user_input_filename):\n",
    "    try:\n",
    "        # Construct the full path from user input\n",
    "        requested_path = os.path.abspath(os.path.join(BASE_DIR, user_input_filename))\n",
    "        \n",
    "        # Check if the resolved path starts with the BASE_DIR path\n",
    "        if not requested_path.startswith(BASE_DIR):\n",
    "            raise Exception(\"⚠️ Unauthorized access attempt blocked!\")\n",
    "\n",
    "        # Read the file content\n",
    "        with open(requested_path, 'r') as file:\n",
    "            content = file.read()\n",
    "            return content\n",
    "\n",
    "    except FileNotFoundError:\n",
    "        return \"❌ File not found.\"\n",
    "    except Exception as e:\n",
    "        return f\"❌ Error: {str(e)}\"\n",
    "\n",
    "# Example usage\n",
    "if __name__ == \"__main__\":\n",
    "    print(\"📂 Secure File Reader\")\n",
    "    filename = input(\"Enter the filename to read (within 'safe_files/' folder): \")\n",
    "    output = read_file_securely(filename)\n",
    "    print(\"\\n🔎 File Content:\\n\", output)"
   ]
  },
  {
   "cell_type": "code",
   "execution_count": null,
   "id": "26253187",
   "metadata": {},
   "outputs": [],
   "source": []
  },
  {
   "cell_type": "code",
   "execution_count": null,
   "id": "bc175c8b",
   "metadata": {},
   "outputs": [],
   "source": []
  },
  {
   "cell_type": "code",
   "execution_count": null,
   "id": "56afbb6d",
   "metadata": {},
   "outputs": [],
   "source": []
  }
 ],
 "metadata": {
  "kernelspec": {
   "display_name": "Python 3 (ipykernel)",
   "language": "python",
   "name": "python3"
  },
  "language_info": {
   "codemirror_mode": {
    "name": "ipython",
    "version": 3
   },
   "file_extension": ".py",
   "mimetype": "text/x-python",
   "name": "python",
   "nbconvert_exporter": "python",
   "pygments_lexer": "ipython3",
   "version": "3.11.5"
  }
 },
 "nbformat": 4,
 "nbformat_minor": 5
}
